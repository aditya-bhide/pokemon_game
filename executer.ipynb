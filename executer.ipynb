{
 "cells": [
  {
   "cell_type": "code",
   "execution_count": 9,
   "metadata": {},
   "outputs": [
    {
     "name": "stdout",
     "output_type": "stream",
     "text": [
      "\n",
      "        1. Create pokemon\n",
      "        2. Show Existing pokemon\n",
      "        3. Battle\n",
      "        4. Quit\n",
      "    \n"
     ]
    },
    {
     "name": "stdin",
     "output_type": "stream",
     "text": [
      "Enter your choice: 4\n"
     ]
    }
   ],
   "source": [
    "# from Arena import Arena\n",
    "from IPython.display import clear_output\n",
    "arena = Arena()\n",
    "while True:\n",
    "    print('''\n",
    "        1. Create pokemon\n",
    "        2. Show Existing pokemon\n",
    "        3. Battle\n",
    "        4. Quit\n",
    "    ''')\n",
    "    choice = int(input('Enter your choice:'))\n",
    "    if choice == 1:\n",
    "        arena.create_pokemon()\n",
    "    elif choice == 2:\n",
    "        arena.show_all()\n",
    "        pass\n",
    "    elif choice == 3:\n",
    "        clear_output()\n",
    "        arena.battle()\n",
    "        pass\n",
    "    else:\n",
    "        break"
   ]
  },
  {
   "cell_type": "code",
   "execution_count": null,
   "metadata": {},
   "outputs": [],
   "source": []
  }
 ],
 "metadata": {
  "kernelspec": {
   "display_name": "Python 3",
   "language": "python",
   "name": "python3"
  },
  "language_info": {
   "codemirror_mode": {
    "name": "ipython",
    "version": 3
   },
   "file_extension": ".py",
   "mimetype": "text/x-python",
   "name": "python",
   "nbconvert_exporter": "python",
   "pygments_lexer": "ipython3",
   "version": "3.7.3"
  }
 },
 "nbformat": 4,
 "nbformat_minor": 2
}
